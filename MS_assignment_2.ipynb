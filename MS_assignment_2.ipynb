{
  "cells": [
    {
      "metadata": {
        "trusted": true
      },
      "cell_type": "markdown",
      "source": "# 数理統計学(2019)　課題2\n\n### このnotebookには、いくつかの設問が記載されています。\n### 先頭から順番に、指示に従ってPython Codeをcellに記述してください。\n### codeを記述するcellは、各自適切に生成してください。\n\n## 課題提出方法\n### 各自のGitHubに、学籍番号_MS2（たとえば、C180001_MS2）という名称のrepositoryを作成してください。\n### このnotebookを各自のGitHubのリポジトリ（学籍番号_MS2)へコピーしてください。\n### このnotebookに記載されたcodeがデータファイルを参照している場合、そのデータファイルも必ずGitHubのリポジトリへコピーしてください。\n### 各自のGitHubのリポジトリをoffice 365のメールアカウントを使用して、sugimura@ccg.ac.jpへ送信してください。メールの件名は、学籍番号_MS2としてください。\n### 【重要】指定された方法で課題を提出することも課題に含まれています。"
    },
    {
      "metadata": {},
      "cell_type": "markdown",
      "source": "## 事前学習\n### 課題に取り組む前に以下の事項を読んでください。\n\n\n### データの種類\n#### 代表的なデータの種類について説明します。\n\n##### 数値データ\n数値データは、定量データの測定に用いられます。-------身長、株価など\n\n数値データには、離散データと連続データとがあります。\n+ 離散データ-------ショッピングサイトで顧客が購買した商品の個数、SNSにおける「いいね！」の回数\n+ 連続データ-------ログインからログアウトまでの時間、一日の降水量\n\n##### カテゴリデータ\nカテゴリデータは、Yes/No、住所地、業種など、数学的な意味を持たないデータです。\n\n##### 順序データ\n順序データは、数値データとカテゴリデータとの中間的なデータです。\n\n数学的な意味を持つカテゴリデータと言うことができます。\n\nたとえば、映画やレストランの5段階評価：1，2，3，4，5などは順序データです。評価の値1、2、3、4、5は数学的な意味を持っています。\n\n\n### 平均値、中央値、モード、標準偏差\n\n#### 数値データの特徴を表す指標として、平均値、中央値、モード、標準偏差などが用いられます。これらは、最も基本的な統計量です。\n\n#### 平均値\n##### 平均値は、合計値／サンプル数　によって計算することができます。\n\n\n実際に、平均値（期待値と呼ぶこともある）を計算しよう。\n\n\n$$ \\mu = \\frac{1}{N} \\sum_{i=1}^{N} x_i $$　　　\n\n\n平均値muを計算するためには、合計sum_scoreとサンプルの個数（サンプルサイズ）Nとを用います。\n\nmu = sum_score / N　　　\n\n\n#### 中央値\n##### 中央値は、値をソートして（昇順または降順に並べる）、中央の値を選びます。\n例：\n\n最初のデータ　　：0，2，3，2，1，0，0，2，0\n\nソート後のデータ：0，0，0, 0，1，2，2，2，3\n\n中央値：小さい方から5番目の値である1が中央値です。\n\nなお、サンプル数が偶数であるとき、中央にある2つの値の平均を中央値とします。\n\n#### モード\n##### モードは、データセット(data set)において出現頻度が最も高い値です。\n連続数値データの場合、モードを決めることはできません。\n\nたとえば、\n\nデータセット：0, 2, 3, 2, 1, 0, 0, 2, 0\n\nにおけるモードは、0です。\n\n\n#### 標準偏差 ####\n\n標準偏差は、分散の平方根である。分散は、元のデータが2乗された次元(dimension)をもっているので、そのままでは、データを扱い難いです。そこで、分散の平方根である標準偏差が使われます。標準偏差の計算式は以下の通りです。\n\n$$ \\sigma = \\sqrt{\\sigma^2} = \\sqrt{\\frac{1}{N-1}\\sum_{i=1}^N (x_i - \\mu)^2}  $$　　　"
    },
    {
      "metadata": {},
      "cell_type": "markdown",
      "source": "### 【設問のための準備】\n\n#### Pythonにおいて数値計算を行うためのモジュルnumpyをインポートし、numpy数値計算ライブラリを利用できるように設定した後、\n#### numpyのメソッドnumpy.random.normal(60, 15, 50)を実行して、平均=60、標準偏差=15、個数=50である乱数からなるリストを発生させ、\n#### データファイル data_a1.csv に出力しました。\n#### 実際には、numpy.random.normalによって発生されるデータは、numpy.ndarray型ですが、リスト型に変換した後にファイルに保存しました。\n#### このデータは、リスト型データdata_a1に読み込まれています。\n#### さらに、このリスト型データdata_a1のいくつかの要素を書き換えたリスト型データdata_a2も準備しました。\n#### 以下では、これらのリスト型データdata_a1とリスト型データdata_a2に関して、設問に解答してください。\n"
    },
    {
      "metadata": {
        "trusted": true
      },
      "cell_type": "code",
      "source": "#必要なライブラリをインポートします。最初に、このセルを必ず実行してください。\n\nimport numpy as np\nimport csv\n",
      "execution_count": 2,
      "outputs": []
    },
    {
      "metadata": {
        "trusted": true
      },
      "cell_type": "code",
      "source": "#　ファイル data_a1.csv からデータを読み出して、リスト型データ data_a1　に保存します。このセルを実行してください。\nwith open('data_a1.csv') as f1:\n    reader = csv.reader(f1)\n    for row in reader:\n        data_a1 = row\nf1.close()\n\n#data_a1",
      "execution_count": 3,
      "outputs": []
    },
    {
      "metadata": {
        "trusted": true
      },
      "cell_type": "code",
      "source": "#　ファイル data_a2.csv からデータを読み出して、リスト型データ data_a2　に保存します。このセルを実行してください。\nwith open('data_a2.csv') as f2:\n    reader = csv.reader(f2)\n    for row in reader:\n        data_a2 = row\nf2.close()\n\n#data_a2",
      "execution_count": 17,
      "outputs": []
    },
    {
      "metadata": {},
      "cell_type": "markdown",
      "source": "### 準備完了です。では、設問に解答してください。"
    },
    {
      "metadata": {},
      "cell_type": "markdown",
      "source": "## 【設問1】\n### リスト型データdata_a1の要素は文字列型です。そこで、文字列のリストをfloat型数値のリストdata_b1に変換してください。\n\n#### ヒント：文字列sは、float(s)によってfloat型数値に変換できます。"
    },
    {
      "metadata": {
        "trusted": true
      },
      "cell_type": "code",
      "source": "data_b1 = []\n\nfor value in data_a1:\n    data_b1.append(float(value))\n    \n#print(data_b1)\n#data_b1",
      "execution_count": 4,
      "outputs": []
    },
    {
      "metadata": {},
      "cell_type": "markdown",
      "source": "## 【設問2】\n### float型のリストdata_b1をint型のリストdata_c1に変換してください。\n#### float型データxは、int(x)によってint型数値に変換できます。"
    },
    {
      "metadata": {
        "trusted": true
      },
      "cell_type": "code",
      "source": "data_c1 = []\n\nfor value in data_b1:\n    data_c1.append(int(value))\n    \n#print(data_c1)\n#data_c1",
      "execution_count": 8,
      "outputs": [
        {
          "output_type": "stream",
          "text": "[63, 61, 43, 48, 70, 50, 57, 54, 65, 97, 40, 48, 39, 51, 51, 20, 40, 52, 44, 39, 41, 57, 47, 46, 63, 37, 54, 41, 52, 60, 77, 21, 18, 61, 62, 48, 55, 64, 40, 60, 88, 42, 72, 44, 27, 48, 69, 49, 51, 43, 33, 82, 45, 34, 32, 46, 62, 40, 36, 33, 45, 38, 30, 15, 51, 45, 49, 47, 46, 23, 50, 59, 49, 48, 33, 74, 46, 77, 54, 38, 34, 54, 26, 43, 66, 38, 29, 31, 65, 63, 46, 42, 31, 57, 26, 56, 49, 69, 39, 65, 32, 60, 42, 39, 46, 69, 43, 52, 41, 49, 36, 36, 73, 74, 55, 48, 58, 64, 71, 70, 29, 62, 29, 58, 68, 48, 58, 50, 48, 56, 43, 48, 75, 54, 52, 57, 53, 57, 62, 50, 57, 49, 31, 70, 56, 62, 50, 31, 71, 53, 47, 69, 53, 61, 36, 23, 45, 44, 25, 57, 39, 50, 47, 52, 37, 55, 65, 45, 34, 60, 33, 52, 43, 56, 38, 23, 58, 40, 55, 48, 47, 62, 67, 55, 46, 50, 54, 44, 49, 53, 31, 58, 58, 58, 37, 90, 64, 38, 44, 42, 47, 25, 36, 48, 65, 56, 46, 55, 47, 32, 41, 40, 63, 35, 44, 37, 40, 64, 28, 49, 29, 48, 55, 64, 26, 37, 65, 75, 55, 58, 72, 42, 30, 59, 56, 31, 63, 49, 45, 59, 87, 19, 43, 71, 33, 18, 40, 34, 80, 47, 27, 54, 70, 39, 44, 81, 22, 75, 63, 72, 52, 64, 36, 43, 60, 65, 42, 50, 59, 38, 45, 48, 78, 27, 56, 55, 59, 41, 24, 59, 62, 52, 55, 72, 42, 59, 52, 54, 43, 64, 74, 63, 45, 48, 28, 48, 49, 77, 69, 61, 49, 36, 60, 43, 52, 87, 59, 46, 60, 53, 63, 16, 62, 39, 68, 50, 41, 66, 40, 59, 64, 68, 37, 39, 45, 59, 37, 83, 42, 52, 59, 38, 46, 50, 49, 70, 58, 94, 54, 45, 55, 40, 28, 45, 38, 29, 58, 45, 57, 36, 62, 49, 51, 80, 40, 54, 50, 46, 47, 25, 63, 61, 23, 41, 60, 59, 72, 40, 31, 45, 37, 85, 40, 36, 40, 55, 34, 60, 70, 50, 45, 48, 66, 60, 20, 82, 47, 47, 63, 31, 33, 54, 80, 53, 30, 65, 53, 50, 45, 50, 39, 46, 53, 62, 53, 44, 69, 56, 56, 30, 35, 72, 39, 40, 37, 32, 53, 48, 38, 69, 44, 59, 47, 23, 70, 57, 48, 43, 61, 48, 55, 26, 47, 69, 54, 43, 68, 47, 47, 35, 45, 60, 46, 47, 46, 33, 41, 57, 30, 40, 62, 50, 85, 27, 32, 40, 66, 29, 48, 30, 14, 54, 52, 38, 41, 58, 50, 44, 46, 37, 46, 54, 58, 32, 18, 45, 46, 34, 45, 32, 24, 46, 37, 35, 63, 66, 52, 13, 45, 52, 54, 67, 46, 38, 34, 44, 52, 24, 37, 71, 75, 34, 48, 34, 64, 33, 45, 75, 59, 83, 64, 61, 59, 35, 62, 27, 39, 63, 43, 53, 32, 45, 41, 63, 36, 41, 55, 68, 28, 44, 74, 45, 58, 54, 50, 39, 44, 32, 68, 70, 59, 47, 40, 27, 38, 57, 28, 26, 52, 54, 63, 37, 39, 26, 62, 30, 39, 10, 47, 39, 22, 30, 49, 36, 39, 32, 72, 51, 42, 42, 68, 68, 31, 34, 57, 42, 57, 51, 58, 35, 56, 35, 46, 48, 64, 62, 49, 44, 70, 74, 60, 56, 46, 55, 43, 37, 49, 68, 44, 42, 48, 63, 48, 41, 63, 32, 56, 46, 48, 55, 40, 56, 34, 25, 79, 79, 59, 27, 61, 56, 64, 29, 53, 40, 58, 61, 39, 44, 52, 49, 48, 65, 58, 61, 43, 45, 58, 26, 42, 38, 32, 46, 70, 49, 45, 75, 4, 69, 52, 39, 59, 10, 53, 24, 43, 65, 31, 30, 59, 63, 26, 47, 62, 50, 44, 41, 32, 35, 29, 60, 60, 66, 67, 24, 37, 35, 42, 54, 66, 14, 34, 56, 60, 50, 31, 33, 66, 46, 68, 76, 58, 57, 39, 50, 48, 45, 34, 46, 67, 42, 33, 68, 38, 61, 50, 40, 41, 44, 58, 55, 61, 61, 26, 18, 41, 61, 22, 46, 79, 64, 55, 23, 36, 44, 64, 65, 25, 62, 58, 61, 40, 64, 8, 31, 62, 33, 54, 64, 55, 48, 37, 60, 25, 58, 45, 61, 55, 29, 61, 19, 31, 72, 43, 32, 61, 53, 36, 55, 46, 61, 55, 71, 46, 31, 53, 59, 41, 60, 42, 41, 40, 87, 47, 44, 34, 61, 58, 46, 51, 30, 68, 37, 44, 24, 45, 43, 70, 27, 63, 69, 70, 38, 42, 41, 43, 35, 42, 64, 49, 57, 53, 47, 74, 59, 60, 37, 53, 25, 61, 24, 54, 48, 60, 58, 34, 29, 54, 45, 52, 49, 17, 39, 65, 45, 78, 52, 60, 32, 58, 33, 33, 58, 23, 49, 55, 31, 57, 37, 56, 64, 37, 66, 54, 43, 47, 50, 58, 50, 22, 49, 41, 24, 49, 35, 54, 42, 38, 30, 49, 91, 43, 37, 52, 56, 59, 76, 39, 41, 24, 32, 63, 34, 50, 76, 31, 27, 39, 15, 48, 43, 54, 43, 62, 34, 66, 51, 39, 60, 56, 62, 65, 49, 36, 59, 55, 69, 53, 51, 34, 38, 28, 36, 50, 55, 37, 58, 49, 51, 46, 36, 72, 61, 56, 27, 55, 70, 65, 50, 23, 76, 43, 44, 54, 39, 47, 43, 28, 41, 61, 47, 40, 56, 29, 43, 35, 50, 37, 21, 55, 39, 68, 52, 64, 51, 63, 61, 50, 79, 43, 50, 28, 47, 33, 60, 39, 44, 48, 57, 64, 53, 102, 63, 42, 55, 54, 80, 41, 39, 58, 45, 29, 77, 50, 77, 34, 50, 70, 45, 59, 64, 44, 54, 37, 85, 61, 50, 49, 40, 28, 50, 46, 53, 38, 56, 56, 36, 53, 43, 49, 45]\n",
          "name": "stdout"
        }
      ]
    },
    {
      "metadata": {},
      "cell_type": "markdown",
      "source": "## 【設問3】\n### 設問1、設問2と同様に、文字列型のリストdata_a2をint型のリストdata_c2に変換してください。\n#### ヒント：リスト内包表記を用いると、1行のコードで変換を実現できます。"
    },
    {
      "metadata": {
        "trusted": true
      },
      "cell_type": "code",
      "source": "data_c2 = [int(float(value)) for value in data_a2]\n\n#print(data_c2)\n#data_c2",
      "execution_count": 18,
      "outputs": []
    },
    {
      "metadata": {},
      "cell_type": "markdown",
      "source": "## 【設問4】\n#### 整数型のリストdata_c1の平均値を上記計算式を使って計算してください。"
    },
    {
      "metadata": {
        "trusted": true
      },
      "cell_type": "code",
      "source": "#print(len(data_c1))\n#print(data_c1)\n\n#sum = 0\n\n#sum = [sum + value for value in data_c1]\n\n#print(sum(data_c1))\n\n#average = sum(data_c1) / len(data_c1)\n\n#print(sum)\nprint(average)",
      "execution_count": 11,
      "outputs": [
        {
          "output_type": "error",
          "ename": "TypeError",
          "evalue": "'list' object is not callable",
          "traceback": [
            "\u001b[0;31m---------------------------------------------------------------------------\u001b[0m",
            "\u001b[0;31mTypeError\u001b[0m                                 Traceback (most recent call last)",
            "\u001b[0;32m<ipython-input-11-ee80eb819527>\u001b[0m in \u001b[0;36m<module>\u001b[0;34m\u001b[0m\n\u001b[1;32m      6\u001b[0m \u001b[0;31m#sum = [sum + value for value in data_c1]\u001b[0m\u001b[0;34m\u001b[0m\u001b[0;34m\u001b[0m\u001b[0m\n\u001b[1;32m      7\u001b[0m \u001b[0;34m\u001b[0m\u001b[0m\n\u001b[0;32m----> 8\u001b[0;31m \u001b[0mprint\u001b[0m\u001b[0;34m(\u001b[0m\u001b[0msum\u001b[0m\u001b[0;34m(\u001b[0m\u001b[0mdata_c1\u001b[0m\u001b[0;34m)\u001b[0m\u001b[0;34m)\u001b[0m\u001b[0;34m\u001b[0m\u001b[0m\n\u001b[0m\u001b[1;32m      9\u001b[0m \u001b[0;34m\u001b[0m\u001b[0m\n\u001b[1;32m     10\u001b[0m \u001b[0;31m#average = sum(data_c1) / len(data_c1)\u001b[0m\u001b[0;34m\u001b[0m\u001b[0;34m\u001b[0m\u001b[0m\n",
            "\u001b[0;31mTypeError\u001b[0m: 'list' object is not callable"
          ]
        }
      ]
    },
    {
      "metadata": {},
      "cell_type": "markdown",
      "source": "## statisticsモジュール\n### Pythonのstatisticsモジュールを用いると、リスト型データの平均、中央値、標準偏差などを計算することができます。\n### 準備のためstatisticsモジュールから必要なライブラリをインポートします。"
    },
    {
      "metadata": {
        "trusted": true
      },
      "cell_type": "code",
      "source": "#　このセルを必ず実行してください。\nfrom statistics import mean, median, stdev",
      "execution_count": 12,
      "outputs": []
    },
    {
      "metadata": {},
      "cell_type": "markdown",
      "source": "## 【設問5】\n#### statisticsモジュールを使って整数型リストdata_c1の平均、中央値、標準偏差を求めてください。"
    },
    {
      "metadata": {
        "trusted": true
      },
      "cell_type": "code",
      "source": "print(mean(data_c1))\nprint(median(data_c1))\nprint(stdev(data_c1))",
      "execution_count": 16,
      "outputs": [
        {
          "output_type": "stream",
          "text": "48.95\n48.0\n14.503718759609821\n",
          "name": "stdout"
        }
      ]
    },
    {
      "metadata": {},
      "cell_type": "markdown",
      "source": "## 【設問6】\n#### statisticsモジュールを使って整数型リストdata_c2の平均、中央値、標準偏差を求めてください。"
    },
    {
      "metadata": {
        "trusted": true
      },
      "cell_type": "code",
      "source": "print(mean(data_c2))\nprint(median(data_c2))\nprint(stdev(data_c2))",
      "execution_count": 19,
      "outputs": [
        {
          "output_type": "stream",
          "text": "78.853\n48.5\n704.8976025076415\n",
          "name": "stdout"
        }
      ]
    },
    {
      "metadata": {},
      "cell_type": "markdown",
      "source": "## 【準備】\n### データdata_c1は、正規分布にしたがったデータです。データdata_c1のヒストグラムを表示します。"
    },
    {
      "metadata": {
        "trusted": true
      },
      "cell_type": "code",
      "source": "#グラフを描画するためのモジュールをインポートします\nimport matplotlib.pyplot as plt\n#Jupyter Notebookにグラフを表示するための命令です\n%matplotlib inline\n\nplt.hist(data_c1, 25)\nplt.show()",
      "execution_count": 23,
      "outputs": [
        {
          "output_type": "display_data",
          "data": {
            "image/png": "[encoded data removed]",
            "text/plain": "<Figure size 432x288 with 1 Axes>"
          },
          "metadata": {
            "needs_background": "light"
          }
        }
      ]
    },
    {
      "metadata": {},
      "cell_type": "markdown",
      "source": "### データdata_c1は、平均からわずかに大きい値の出現頻度が少ないようですが、全体的には、平均を中心として左右になだらかな勾配を持つ正規分布の特徴を示しています。\n\n### 次に、データdata_c2について調べましょう。data_c2は、data_c1の中の2つの要素の値を変更することによって得られたデータです。\n### 設問6でわかったように、data_c1とdata_c2とを比べると、中央値はほとんど同じ値ですが、平均と標準偏差が大きく異なります。\n### data_c1とdata_c2の要素の個数は、1000個です。そのうち、2個の要素の値を変えると、平均値が大幅に変化したことになります。\n### では、data_c2は、data_c1の2個の要素の値をどのように変化させたのでしょう。\n### その原因を突き止めましょう。"
    },
    {
      "metadata": {},
      "cell_type": "markdown",
      "source": "## 【設問7】\n### data_c1のヒストグラムと同様に、data_c2のヒストグラムを表示させてください。"
    },
    {
      "metadata": {},
      "cell_type": "markdown",
      "source": "### 上のヒストグラムからどんなことがわかりますか？\n### ヒストグラムの横軸の値（データの値）が0から20,000まで広がっています。\n### しかし、値の度数（出現頻度）を表す縦軸は、左端（およそ0から800の範囲）に集中しています。\n### ここからわかることは、出現頻度は少ないけれど、極端に大きな値（異常値）を持つ要素が存在することです。"
    },
    {
      "metadata": {
        "trusted": true
      },
      "cell_type": "code",
      "source": "import matplotlib.pyplot as plt\n\n%matplotlib inline\n\nplt.hist(data_c2, 25)\nplt.show()",
      "execution_count": 22,
      "outputs": [
        {
          "output_type": "display_data",
          "data": {
            "image/png": "[encoded data removed]",
            "text/plain": "<Figure size 432x288 with 1 Axes>"
          },
          "metadata": {
            "needs_background": "light"
          }
        }
      ]
    },
    {
      "metadata": {},
      "cell_type": "markdown",
      "source": "## 【設問8】\n### データdata_c2から異常値（外れ値と呼ぶこともあります）を除去したデータdata_c3を作成してください。\n#### ヒント： データセットの中央値からある値以上離れている要素を除去することにより、外れ値を除去することができます。\n#### ある値として、標準偏差の2倍を用いてください。\n#### 得られたデータdata_c3の要素の個数を表示してください。\n"
    },
    {
      "metadata": {},
      "cell_type": "markdown",
      "source": "## 【設問9】\n### 得られたデータdata_c3のヒストグラムを表示してください。"
    },
    {
      "metadata": {},
      "cell_type": "markdown",
      "source": "## 【設問10】\n### 得られたデータdata_c3の平均、中央値、標準偏差を求めてください。"
    },
    {
      "metadata": {
        "trusted": true
      },
      "cell_type": "code",
      "source": "",
      "execution_count": null,
      "outputs": []
    }
  ],
  "metadata": {
    "kernelspec": {
      "name": "python36",
      "display_name": "Python 3.6",
      "language": "python"
    },
    "language_info": {
      "mimetype": "text/x-python",
      "nbconvert_exporter": "python",
      "name": "python",
      "pygments_lexer": "ipython3",
      "version": "3.6.6",
      "file_extension": ".py",
      "codemirror_mode": {
        "version": 3,
        "name": "ipython"
      }
    }
  },
  "nbformat": 4,
  "nbformat_minor": 2
}